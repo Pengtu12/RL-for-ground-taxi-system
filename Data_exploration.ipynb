{
 "cells": [
  {
   "cell_type": "code",
   "execution_count": null,
   "id": "interim-joint",
   "metadata": {},
   "outputs": [],
   "source": [
    "import pandas as pd, os, numpy as np, random\n",
    "import seaborn as sns     \n",
    "import matplotlib.pyplot as plt\n",
    "sns.set()\n",
    "import geopandas as geopd\n",
    "from shapely import wkt"
   ]
  },
  {
   "cell_type": "markdown",
   "id": "smooth-vampire",
   "metadata": {
    "tags": []
   },
   "source": [
    "# Taxi_dataset\n"
   ]
  },
  {
   "cell_type": "code",
   "execution_count": null,
   "id": "adb364d7-73f4-4bc8-b243-8f42a4b05196",
   "metadata": {},
   "outputs": [],
   "source": [
    "to_keep_by = 100"
   ]
  },
  {
   "cell_type": "markdown",
   "id": "59f3da17-72e5-4196-9e32-140dfc5db7ed",
   "metadata": {
    "tags": []
   },
   "source": [
    "## Explore the yellow taxi trip dataset\n"
   ]
  },
  {
   "cell_type": "markdown",
   "id": "1ac2fe22-760e-4382-aea4-996e305e29d2",
   "metadata": {
    "tags": []
   },
   "source": [
    "### Read the dataset"
   ]
  },
  {
   "cell_type": "code",
   "execution_count": null,
   "id": "confused-presentation",
   "metadata": {},
   "outputs": [
    {
     "name": "stderr",
     "output_type": "stream",
     "text": [
      "/var/folders/vm/01c_nbj93wj1_93nt97yz55h0000gn/T/ipykernel_19113/526928966.py:5: DtypeWarning: Columns (6) have mixed types. Specify dtype option on import or set low_memory=False.\n",
      "  csv_data = pd.read_csv(dataset_path)\n"
     ]
    }
   ],
   "source": [
    "## Read dataset\n",
    "\n",
    "dataset_path = '../capstone/Project-baseline/Data/yellow_tripdata_2020-01.csv'\n",
    "\n",
    "csv_data = pd.read_csv(dataset_path)"
   ]
  },
  {
   "cell_type": "markdown",
   "id": "7fc9defa-406e-4f1f-a509-a3e63d8fbed5",
   "metadata": {},
   "source": [
    "### Extract useful informations"
   ]
  },
  {
   "cell_type": "code",
   "execution_count": null,
   "id": "graphic-capitol",
   "metadata": {},
   "outputs": [
    {
     "name": "stdout",
     "output_type": "stream",
     "text": [
      "columns are['VendorID', 'tpep_pickup_datetime', 'tpep_dropoff_datetime', 'passenger_count', 'trip_distance', 'RatecodeID', 'store_and_fwd_flag', 'PULocationID', 'DOLocationID', 'payment_type', 'fare_amount', 'extra', 'mta_tax', 'tip_amount', 'tolls_amount', 'improvement_surcharge', 'total_amount', 'congestion_surcharge'],\n",
      " and number of data is :(6405008, 18)\n"
     ]
    }
   ],
   "source": [
    "## Check data length and columns\n",
    "print(f'columns are{list(csv_data.columns)},\\n and number of data is :{csv_data.shape}')"
   ]
  },
  {
   "cell_type": "code",
   "execution_count": null,
   "id": "dominant-timothy",
   "metadata": {},
   "outputs": [
    {
     "data": {
      "text/html": [
       "<div>\n",
       "<style scoped>\n",
       "    .dataframe tbody tr th:only-of-type {\n",
       "        vertical-align: middle;\n",
       "    }\n",
       "\n",
       "    .dataframe tbody tr th {\n",
       "        vertical-align: top;\n",
       "    }\n",
       "\n",
       "    .dataframe thead th {\n",
       "        text-align: right;\n",
       "    }\n",
       "</style>\n",
       "<table border=\"1\" class=\"dataframe\">\n",
       "  <thead>\n",
       "    <tr style=\"text-align: right;\">\n",
       "      <th></th>\n",
       "      <th>VendorID</th>\n",
       "      <th>passenger_count</th>\n",
       "      <th>trip_distance</th>\n",
       "      <th>RatecodeID</th>\n",
       "      <th>PULocationID</th>\n",
       "      <th>DOLocationID</th>\n",
       "      <th>payment_type</th>\n",
       "      <th>fare_amount</th>\n",
       "      <th>extra</th>\n",
       "      <th>mta_tax</th>\n",
       "      <th>tip_amount</th>\n",
       "      <th>tolls_amount</th>\n",
       "      <th>improvement_surcharge</th>\n",
       "      <th>total_amount</th>\n",
       "      <th>congestion_surcharge</th>\n",
       "    </tr>\n",
       "  </thead>\n",
       "  <tbody>\n",
       "    <tr>\n",
       "      <th>count</th>\n",
       "      <td>6.339567e+06</td>\n",
       "      <td>6.339567e+06</td>\n",
       "      <td>6.405008e+06</td>\n",
       "      <td>6.339567e+06</td>\n",
       "      <td>6.405008e+06</td>\n",
       "      <td>6.405008e+06</td>\n",
       "      <td>6.339567e+06</td>\n",
       "      <td>6.405008e+06</td>\n",
       "      <td>6.405008e+06</td>\n",
       "      <td>6.405008e+06</td>\n",
       "      <td>6.405008e+06</td>\n",
       "      <td>6.405008e+06</td>\n",
       "      <td>6.405008e+06</td>\n",
       "      <td>6.405008e+06</td>\n",
       "      <td>6.405008e+06</td>\n",
       "    </tr>\n",
       "    <tr>\n",
       "      <th>mean</th>\n",
       "      <td>1.669624e+00</td>\n",
       "      <td>1.515333e+00</td>\n",
       "      <td>2.929644e+00</td>\n",
       "      <td>1.059908e+00</td>\n",
       "      <td>1.647323e+02</td>\n",
       "      <td>1.626627e+02</td>\n",
       "      <td>1.270298e+00</td>\n",
       "      <td>1.269411e+01</td>\n",
       "      <td>1.115456e+00</td>\n",
       "      <td>4.923182e-01</td>\n",
       "      <td>2.189342e+00</td>\n",
       "      <td>3.488395e-01</td>\n",
       "      <td>2.979870e-01</td>\n",
       "      <td>1.866315e+01</td>\n",
       "      <td>2.275662e+00</td>\n",
       "    </tr>\n",
       "    <tr>\n",
       "      <th>std</th>\n",
       "      <td>4.703484e-01</td>\n",
       "      <td>1.151594e+00</td>\n",
       "      <td>8.315911e+01</td>\n",
       "      <td>8.118432e-01</td>\n",
       "      <td>6.554374e+01</td>\n",
       "      <td>6.991261e+01</td>\n",
       "      <td>4.739985e-01</td>\n",
       "      <td>1.212730e+01</td>\n",
       "      <td>1.260054e+00</td>\n",
       "      <td>7.374184e-02</td>\n",
       "      <td>2.760028e+00</td>\n",
       "      <td>1.766978e+00</td>\n",
       "      <td>3.385937e-02</td>\n",
       "      <td>1.475736e+01</td>\n",
       "      <td>7.352646e-01</td>\n",
       "    </tr>\n",
       "    <tr>\n",
       "      <th>min</th>\n",
       "      <td>1.000000e+00</td>\n",
       "      <td>0.000000e+00</td>\n",
       "      <td>-3.062000e+01</td>\n",
       "      <td>1.000000e+00</td>\n",
       "      <td>1.000000e+00</td>\n",
       "      <td>1.000000e+00</td>\n",
       "      <td>1.000000e+00</td>\n",
       "      <td>-1.238000e+03</td>\n",
       "      <td>-2.700000e+01</td>\n",
       "      <td>-5.000000e-01</td>\n",
       "      <td>-9.100000e+01</td>\n",
       "      <td>-3.574000e+01</td>\n",
       "      <td>-3.000000e-01</td>\n",
       "      <td>-1.242300e+03</td>\n",
       "      <td>-2.500000e+00</td>\n",
       "    </tr>\n",
       "    <tr>\n",
       "      <th>25%</th>\n",
       "      <td>1.000000e+00</td>\n",
       "      <td>1.000000e+00</td>\n",
       "      <td>9.600000e-01</td>\n",
       "      <td>1.000000e+00</td>\n",
       "      <td>1.320000e+02</td>\n",
       "      <td>1.130000e+02</td>\n",
       "      <td>1.000000e+00</td>\n",
       "      <td>6.500000e+00</td>\n",
       "      <td>0.000000e+00</td>\n",
       "      <td>5.000000e-01</td>\n",
       "      <td>0.000000e+00</td>\n",
       "      <td>0.000000e+00</td>\n",
       "      <td>3.000000e-01</td>\n",
       "      <td>1.116000e+01</td>\n",
       "      <td>2.500000e+00</td>\n",
       "    </tr>\n",
       "    <tr>\n",
       "      <th>50%</th>\n",
       "      <td>2.000000e+00</td>\n",
       "      <td>1.000000e+00</td>\n",
       "      <td>1.600000e+00</td>\n",
       "      <td>1.000000e+00</td>\n",
       "      <td>1.620000e+02</td>\n",
       "      <td>1.620000e+02</td>\n",
       "      <td>1.000000e+00</td>\n",
       "      <td>9.000000e+00</td>\n",
       "      <td>5.000000e-01</td>\n",
       "      <td>5.000000e-01</td>\n",
       "      <td>1.950000e+00</td>\n",
       "      <td>0.000000e+00</td>\n",
       "      <td>3.000000e-01</td>\n",
       "      <td>1.430000e+01</td>\n",
       "      <td>2.500000e+00</td>\n",
       "    </tr>\n",
       "    <tr>\n",
       "      <th>75%</th>\n",
       "      <td>2.000000e+00</td>\n",
       "      <td>2.000000e+00</td>\n",
       "      <td>2.930000e+00</td>\n",
       "      <td>1.000000e+00</td>\n",
       "      <td>2.340000e+02</td>\n",
       "      <td>2.340000e+02</td>\n",
       "      <td>2.000000e+00</td>\n",
       "      <td>1.400000e+01</td>\n",
       "      <td>2.500000e+00</td>\n",
       "      <td>5.000000e-01</td>\n",
       "      <td>2.860000e+00</td>\n",
       "      <td>0.000000e+00</td>\n",
       "      <td>3.000000e-01</td>\n",
       "      <td>1.980000e+01</td>\n",
       "      <td>2.500000e+00</td>\n",
       "    </tr>\n",
       "    <tr>\n",
       "      <th>max</th>\n",
       "      <td>2.000000e+00</td>\n",
       "      <td>9.000000e+00</td>\n",
       "      <td>2.102401e+05</td>\n",
       "      <td>9.900000e+01</td>\n",
       "      <td>2.650000e+02</td>\n",
       "      <td>2.650000e+02</td>\n",
       "      <td>5.000000e+00</td>\n",
       "      <td>4.265000e+03</td>\n",
       "      <td>1.130100e+02</td>\n",
       "      <td>3.080000e+01</td>\n",
       "      <td>1.100000e+03</td>\n",
       "      <td>9.105000e+02</td>\n",
       "      <td>3.000000e-01</td>\n",
       "      <td>4.268300e+03</td>\n",
       "      <td>2.750000e+00</td>\n",
       "    </tr>\n",
       "  </tbody>\n",
       "</table>\n",
       "</div>"
      ],
      "text/plain": [
       "           VendorID  passenger_count  trip_distance    RatecodeID  \\\n",
       "count  6.339567e+06     6.339567e+06   6.405008e+06  6.339567e+06   \n",
       "mean   1.669624e+00     1.515333e+00   2.929644e+00  1.059908e+00   \n",
       "std    4.703484e-01     1.151594e+00   8.315911e+01  8.118432e-01   \n",
       "min    1.000000e+00     0.000000e+00  -3.062000e+01  1.000000e+00   \n",
       "25%    1.000000e+00     1.000000e+00   9.600000e-01  1.000000e+00   \n",
       "50%    2.000000e+00     1.000000e+00   1.600000e+00  1.000000e+00   \n",
       "75%    2.000000e+00     2.000000e+00   2.930000e+00  1.000000e+00   \n",
       "max    2.000000e+00     9.000000e+00   2.102401e+05  9.900000e+01   \n",
       "\n",
       "       PULocationID  DOLocationID  payment_type   fare_amount         extra  \\\n",
       "count  6.405008e+06  6.405008e+06  6.339567e+06  6.405008e+06  6.405008e+06   \n",
       "mean   1.647323e+02  1.626627e+02  1.270298e+00  1.269411e+01  1.115456e+00   \n",
       "std    6.554374e+01  6.991261e+01  4.739985e-01  1.212730e+01  1.260054e+00   \n",
       "min    1.000000e+00  1.000000e+00  1.000000e+00 -1.238000e+03 -2.700000e+01   \n",
       "25%    1.320000e+02  1.130000e+02  1.000000e+00  6.500000e+00  0.000000e+00   \n",
       "50%    1.620000e+02  1.620000e+02  1.000000e+00  9.000000e+00  5.000000e-01   \n",
       "75%    2.340000e+02  2.340000e+02  2.000000e+00  1.400000e+01  2.500000e+00   \n",
       "max    2.650000e+02  2.650000e+02  5.000000e+00  4.265000e+03  1.130100e+02   \n",
       "\n",
       "            mta_tax    tip_amount  tolls_amount  improvement_surcharge  \\\n",
       "count  6.405008e+06  6.405008e+06  6.405008e+06           6.405008e+06   \n",
       "mean   4.923182e-01  2.189342e+00  3.488395e-01           2.979870e-01   \n",
       "std    7.374184e-02  2.760028e+00  1.766978e+00           3.385937e-02   \n",
       "min   -5.000000e-01 -9.100000e+01 -3.574000e+01          -3.000000e-01   \n",
       "25%    5.000000e-01  0.000000e+00  0.000000e+00           3.000000e-01   \n",
       "50%    5.000000e-01  1.950000e+00  0.000000e+00           3.000000e-01   \n",
       "75%    5.000000e-01  2.860000e+00  0.000000e+00           3.000000e-01   \n",
       "max    3.080000e+01  1.100000e+03  9.105000e+02           3.000000e-01   \n",
       "\n",
       "       total_amount  congestion_surcharge  \n",
       "count  6.405008e+06          6.405008e+06  \n",
       "mean   1.866315e+01          2.275662e+00  \n",
       "std    1.475736e+01          7.352646e-01  \n",
       "min   -1.242300e+03         -2.500000e+00  \n",
       "25%    1.116000e+01          2.500000e+00  \n",
       "50%    1.430000e+01          2.500000e+00  \n",
       "75%    1.980000e+01          2.500000e+00  \n",
       "max    4.268300e+03          2.750000e+00  "
      ]
     },
     "execution_count": 5,
     "metadata": {},
     "output_type": "execute_result"
    }
   ],
   "source": [
    "## Check variable type\n",
    "csv_data.describe()"
   ]
  },
  {
   "cell_type": "code",
   "execution_count": null,
   "id": "educated-magazine",
   "metadata": {},
   "outputs": [],
   "source": [
    "## Check existance NAN in the dataframe\n",
    "csv_data.isnull().sum();\n",
    "\n",
    "## Drop rows that have the same pick_up and drop_off location\n",
    "csv_data = csv_data[csv_data.PULocationID!=csv_data.DOLocationID]"
   ]
  },
  {
   "cell_type": "code",
   "execution_count": null,
   "id": "painful-eagle",
   "metadata": {},
   "outputs": [],
   "source": [
    "csv_data.nunique();"
   ]
  },
  {
   "cell_type": "markdown",
   "id": "292f384d-4062-4ff0-bdb6-41f167fdcac7",
   "metadata": {
    "tags": []
   },
   "source": [
    "## Preprocess data"
   ]
  },
  {
   "cell_type": "code",
   "execution_count": null,
   "id": "willing-modeling",
   "metadata": {},
   "outputs": [
    {
     "name": "stdout",
     "output_type": "stream",
     "text": [
      "number of data left is :(5945426, 18) from the (6008443, 18) that we had initally\n"
     ]
    }
   ],
   "source": [
    "all_data = csv_data.copy().dropna()\n",
    "print(f'number of data left is :{all_data.shape} from the {csv_data.shape} that we had initally')"
   ]
  },
  {
   "cell_type": "code",
   "execution_count": null,
   "id": "fleet-multiple",
   "metadata": {},
   "outputs": [],
   "source": [
    "del csv_data"
   ]
  },
  {
   "cell_type": "code",
   "execution_count": null,
   "id": "first-lawsuit",
   "metadata": {},
   "outputs": [],
   "source": [
    "all_data['tpep_pickup_datetime'] =  pd.to_datetime(all_data['tpep_pickup_datetime']) \n",
    "all_data['tpep_dropoff_datetime'] =  pd.to_datetime(all_data['tpep_dropoff_datetime']) \n",
    "all_data['PUday'] = all_data['tpep_pickup_datetime'].dt.day\n",
    "all_data['PUhour'] = all_data['tpep_pickup_datetime'].dt.time\n",
    "all_data['DOday'] = all_data['tpep_dropoff_datetime'].dt.day\n",
    "all_data['DOhour'] = all_data['tpep_dropoff_datetime'].dt.time"
   ]
  },
  {
   "cell_type": "markdown",
   "id": "42229419-ffc2-4fd7-ba49-1d23b5328f04",
   "metadata": {},
   "source": [
    "### Create demand dataframe"
   ]
  },
  {
   "cell_type": "code",
   "execution_count": null,
   "id": "1d8966f7-3485-4214-9b30-cf797dee0144",
   "metadata": {},
   "outputs": [],
   "source": [
    "## demand lists\n",
    "\n",
    "PU_demand_month = all_data.groupby('PULocationID').count()['VendorID']\n",
    "PU_demand_month = PU_demand_month.reset_index().rename(columns={'VendorID':'PU_Demand_month'})\n",
    "\n",
    "\n",
    "DO_demand_month = all_data.groupby('DOLocationID').count()['VendorID']\n",
    "DO_demand_month = DO_demand_month.reset_index().rename(columns={'VendorID':'DO_Demand_month'})\n"
   ]
  },
  {
   "cell_type": "markdown",
   "id": "a3b5e5e7-ff3a-4c86-ba2b-3569df2ece67",
   "metadata": {},
   "source": [
    "### Pick data for a single day of choice"
   ]
  },
  {
   "cell_type": "code",
   "execution_count": null,
   "id": "incorporate-offering",
   "metadata": {},
   "outputs": [],
   "source": [
    "data = all_data[all_data.PUday==1]\n",
    "\n",
    "del all_data"
   ]
  },
  {
   "cell_type": "code",
   "execution_count": null,
   "id": "composed-forty",
   "metadata": {},
   "outputs": [],
   "source": [
    "# data_day1.passenger_count.value_counts()\n",
    "# sns.countplot(x='passenger_count',data=data);"
   ]
  },
  {
   "cell_type": "code",
   "execution_count": null,
   "id": "changed-printing",
   "metadata": {},
   "outputs": [],
   "source": [
    "## Innitiate the dataset that we are going to work with later\n",
    "new_attributes = {'trip_distance':['count']}\n",
    "\n",
    "# new_attributes = {'trip_distance':['count','min','max','mean'],'total_amount':['min','max','mean'],'tolls_amount':['mean']}\n",
    "\n",
    "new_columns = ['_'.join([key,elem]) for key,attrib in new_attributes.items() for elem in attrib]\n",
    "new_data = data.groupby(['PULocationID','DOLocationID']).agg(new_attributes)\n",
    "new_data.columns = new_columns"
   ]
  },
  {
   "cell_type": "markdown",
   "id": "c141c42d-5534-4db6-a101-e9d0dd614596",
   "metadata": {},
   "source": [
    "### Create demand dataframe for a day"
   ]
  },
  {
   "cell_type": "code",
   "execution_count": null,
   "id": "50a3a1a1-b249-442a-b533-d2b5fa198a32",
   "metadata": {},
   "outputs": [],
   "source": [
    "## demand lists\n",
    "PU_demand_day = data.groupby('PULocationID').count()['VendorID']\n",
    "PU_demand_day = PU_demand_day.reset_index().rename(columns={'VendorID':'PU_Demand_day'})\n",
    "\n",
    "\n",
    "DO_demand_day = data.groupby('DOLocationID').count()['VendorID']\n",
    "DO_demand_day = DO_demand_day.reset_index().rename(columns={'VendorID':'DO_Demand_day'})\n"
   ]
  },
  {
   "cell_type": "markdown",
   "id": "5f3856f3-1b82-414a-9843-f77069daeb41",
   "metadata": {
    "tags": []
   },
   "source": [
    "### Reduce dataset size(moved elsewhere)"
   ]
  },
  {
   "cell_type": "code",
   "execution_count": null,
   "id": "forced-plate",
   "metadata": {},
   "outputs": [],
   "source": [
    "# new_data = new_data.reset_index()\n",
    "# range_to_keep = random.sample(range(0, 263), nb_data_to_keep)\n"
   ]
  },
  {
   "cell_type": "code",
   "execution_count": null,
   "id": "moderate-mortgage",
   "metadata": {},
   "outputs": [],
   "source": [
    "\n",
    "# new_data = new_data.loc[new_data.apply(lambda x: x.PULocationID in range_to_keep and x.DOLocationID in range_to_keep and x.PULocationID!=x.DOLocationID, axis=1)]\n",
    "\n",
    "# new_data=new_data.rename(columns={'trip_distance_count':'Demand'})\n",
    "# new_data.sort_values(by='Demand',ascending=False);"
   ]
  },
  {
   "cell_type": "code",
   "execution_count": null,
   "id": "dafac788-fa35-426f-bbb8-f00fcd699fff",
   "metadata": {},
   "outputs": [],
   "source": [
    "# new_data;"
   ]
  },
  {
   "cell_type": "code",
   "execution_count": null,
   "id": "5e82cbc0-e881-4709-b7fe-7b351809d860",
   "metadata": {},
   "outputs": [],
   "source": [
    "# ## Visualisation preparations\n",
    "\n",
    "# PU_demand_target = new_data.groupby('PULocationID').sum().drop(columns='DOLocationID').rename(columns={'Demand':'PU_Demand_target'})\n",
    "# DO_demand_target = new_data.groupby('DOLocationID').sum().drop(columns='PULocationID').rename(columns={'Demand':'DO_Demand_target'})"
   ]
  },
  {
   "cell_type": "code",
   "execution_count": null,
   "id": "381072ac-3df0-405b-a05c-c13af82ab2b2",
   "metadata": {},
   "outputs": [],
   "source": [
    "# del data"
   ]
  },
  {
   "cell_type": "markdown",
   "id": "rubber-shell",
   "metadata": {
    "tags": []
   },
   "source": [
    "## Explore NYC zones"
   ]
  },
  {
   "cell_type": "markdown",
   "id": "2c5a80be-d3d2-4135-b58f-ae2249cc89d0",
   "metadata": {},
   "source": [
    "### Read the NYC zone file"
   ]
  },
  {
   "cell_type": "code",
   "execution_count": null,
   "id": "historic-spectacular",
   "metadata": {},
   "outputs": [
    {
     "data": {
      "text/html": [
       "<div>\n",
       "<style scoped>\n",
       "    .dataframe tbody tr th:only-of-type {\n",
       "        vertical-align: middle;\n",
       "    }\n",
       "\n",
       "    .dataframe tbody tr th {\n",
       "        vertical-align: top;\n",
       "    }\n",
       "\n",
       "    .dataframe thead th {\n",
       "        text-align: right;\n",
       "    }\n",
       "</style>\n",
       "<table border=\"1\" class=\"dataframe\">\n",
       "  <thead>\n",
       "    <tr style=\"text-align: right;\">\n",
       "      <th></th>\n",
       "      <th>OBJECTID</th>\n",
       "      <th>Shape_Leng</th>\n",
       "      <th>the_geom</th>\n",
       "      <th>Shape_Area</th>\n",
       "      <th>zone</th>\n",
       "      <th>LocationID</th>\n",
       "      <th>borough</th>\n",
       "    </tr>\n",
       "  </thead>\n",
       "  <tbody>\n",
       "    <tr>\n",
       "      <th>0</th>\n",
       "      <td>1</td>\n",
       "      <td>0.116357</td>\n",
       "      <td>MULTIPOLYGON (((-74.18445299999996 40.69499599...</td>\n",
       "      <td>0.000782</td>\n",
       "      <td>Newark Airport</td>\n",
       "      <td>1</td>\n",
       "      <td>EWR</td>\n",
       "    </tr>\n",
       "    <tr>\n",
       "      <th>1</th>\n",
       "      <td>2</td>\n",
       "      <td>0.433470</td>\n",
       "      <td>MULTIPOLYGON (((-73.82337597260663 40.63898704...</td>\n",
       "      <td>0.004866</td>\n",
       "      <td>Jamaica Bay</td>\n",
       "      <td>2</td>\n",
       "      <td>Queens</td>\n",
       "    </tr>\n",
       "    <tr>\n",
       "      <th>2</th>\n",
       "      <td>3</td>\n",
       "      <td>0.084341</td>\n",
       "      <td>MULTIPOLYGON (((-73.84792614099985 40.87134223...</td>\n",
       "      <td>0.000314</td>\n",
       "      <td>Allerton/Pelham Gardens</td>\n",
       "      <td>3</td>\n",
       "      <td>Bronx</td>\n",
       "    </tr>\n",
       "    <tr>\n",
       "      <th>3</th>\n",
       "      <td>4</td>\n",
       "      <td>0.043567</td>\n",
       "      <td>MULTIPOLYGON (((-73.97177410965318 40.72582128...</td>\n",
       "      <td>0.000112</td>\n",
       "      <td>Alphabet City</td>\n",
       "      <td>4</td>\n",
       "      <td>Manhattan</td>\n",
       "    </tr>\n",
       "    <tr>\n",
       "      <th>4</th>\n",
       "      <td>5</td>\n",
       "      <td>0.092146</td>\n",
       "      <td>MULTIPOLYGON (((-74.17421738099989 40.56256808...</td>\n",
       "      <td>0.000498</td>\n",
       "      <td>Arden Heights</td>\n",
       "      <td>5</td>\n",
       "      <td>Staten Island</td>\n",
       "    </tr>\n",
       "    <tr>\n",
       "      <th>...</th>\n",
       "      <td>...</td>\n",
       "      <td>...</td>\n",
       "      <td>...</td>\n",
       "      <td>...</td>\n",
       "      <td>...</td>\n",
       "      <td>...</td>\n",
       "      <td>...</td>\n",
       "    </tr>\n",
       "    <tr>\n",
       "      <th>258</th>\n",
       "      <td>256</td>\n",
       "      <td>0.067915</td>\n",
       "      <td>MULTIPOLYGON (((-73.95834207500002 40.71330630...</td>\n",
       "      <td>0.000169</td>\n",
       "      <td>Williamsburg (South Side)</td>\n",
       "      <td>256</td>\n",
       "      <td>Brooklyn</td>\n",
       "    </tr>\n",
       "    <tr>\n",
       "      <th>259</th>\n",
       "      <td>259</td>\n",
       "      <td>0.126750</td>\n",
       "      <td>MULTIPOLYGON (((-73.85107116191898 40.91037152...</td>\n",
       "      <td>0.000395</td>\n",
       "      <td>Woodlawn/Wakefield</td>\n",
       "      <td>259</td>\n",
       "      <td>Bronx</td>\n",
       "    </tr>\n",
       "    <tr>\n",
       "      <th>260</th>\n",
       "      <td>260</td>\n",
       "      <td>0.133514</td>\n",
       "      <td>MULTIPOLYGON (((-73.90175373399988 40.76077547...</td>\n",
       "      <td>0.000422</td>\n",
       "      <td>Woodside</td>\n",
       "      <td>260</td>\n",
       "      <td>Queens</td>\n",
       "    </tr>\n",
       "    <tr>\n",
       "      <th>261</th>\n",
       "      <td>261</td>\n",
       "      <td>0.027120</td>\n",
       "      <td>MULTIPOLYGON (((-74.01332610899988 40.70503078...</td>\n",
       "      <td>0.000034</td>\n",
       "      <td>World Trade Center</td>\n",
       "      <td>261</td>\n",
       "      <td>Manhattan</td>\n",
       "    </tr>\n",
       "    <tr>\n",
       "      <th>262</th>\n",
       "      <td>262</td>\n",
       "      <td>0.049064</td>\n",
       "      <td>MULTIPOLYGON (((-73.94383256699986 40.78285908...</td>\n",
       "      <td>0.000122</td>\n",
       "      <td>Yorkville East</td>\n",
       "      <td>262</td>\n",
       "      <td>Manhattan</td>\n",
       "    </tr>\n",
       "  </tbody>\n",
       "</table>\n",
       "<p>263 rows × 7 columns</p>\n",
       "</div>"
      ],
      "text/plain": [
       "     OBJECTID  Shape_Leng                                           the_geom  \\\n",
       "0           1    0.116357  MULTIPOLYGON (((-74.18445299999996 40.69499599...   \n",
       "1           2    0.433470  MULTIPOLYGON (((-73.82337597260663 40.63898704...   \n",
       "2           3    0.084341  MULTIPOLYGON (((-73.84792614099985 40.87134223...   \n",
       "3           4    0.043567  MULTIPOLYGON (((-73.97177410965318 40.72582128...   \n",
       "4           5    0.092146  MULTIPOLYGON (((-74.17421738099989 40.56256808...   \n",
       "..        ...         ...                                                ...   \n",
       "258       256    0.067915  MULTIPOLYGON (((-73.95834207500002 40.71330630...   \n",
       "259       259    0.126750  MULTIPOLYGON (((-73.85107116191898 40.91037152...   \n",
       "260       260    0.133514  MULTIPOLYGON (((-73.90175373399988 40.76077547...   \n",
       "261       261    0.027120  MULTIPOLYGON (((-74.01332610899988 40.70503078...   \n",
       "262       262    0.049064  MULTIPOLYGON (((-73.94383256699986 40.78285908...   \n",
       "\n",
       "     Shape_Area                       zone  LocationID        borough  \n",
       "0      0.000782             Newark Airport           1            EWR  \n",
       "1      0.004866                Jamaica Bay           2         Queens  \n",
       "2      0.000314    Allerton/Pelham Gardens           3          Bronx  \n",
       "3      0.000112              Alphabet City           4      Manhattan  \n",
       "4      0.000498              Arden Heights           5  Staten Island  \n",
       "..          ...                        ...         ...            ...  \n",
       "258    0.000169  Williamsburg (South Side)         256       Brooklyn  \n",
       "259    0.000395         Woodlawn/Wakefield         259          Bronx  \n",
       "260    0.000422                   Woodside         260         Queens  \n",
       "261    0.000034         World Trade Center         261      Manhattan  \n",
       "262    0.000122             Yorkville East         262      Manhattan  \n",
       "\n",
       "[263 rows x 7 columns]"
      ]
     },
     "execution_count": 21,
     "metadata": {},
     "output_type": "execute_result"
    }
   ],
   "source": [
    "zone_path = '../capstone/Project-baseline/Data/nyc-taxi-zones-1.csv'\n",
    "\n",
    "zone_data = pd.read_csv(zone_path)\n",
    "zone_data"
   ]
  },
  {
   "cell_type": "markdown",
   "id": "0e5a8215-9692-4196-8002-bab43ab7c087",
   "metadata": {
    "tags": []
   },
   "source": [
    "### Preprocess NYC zone dataset"
   ]
  },
  {
   "cell_type": "code",
   "execution_count": null,
   "id": "3f45f169-a7b4-4b61-ac08-41e3a7009901",
   "metadata": {},
   "outputs": [],
   "source": [
    "geo_data = geopd.GeoDataFrame(zone_data)#, geometry=geopandas.points_from_xy(df.Longitude, df.Latitude))\n",
    "geo_data['geometry'] = geo_data['the_geom'].apply(wkt.loads)\n",
    "del zone_data"
   ]
  },
  {
   "cell_type": "code",
   "execution_count": null,
   "id": "instrumental-treasurer",
   "metadata": {},
   "outputs": [],
   "source": [
    "geo_data[\"x\"] = geo_data.centroid.x\n",
    "geo_data[\"y\"] = geo_data.centroid.y\n",
    "geo_data[\"centroid\"] = geo_data.centroid"
   ]
  },
  {
   "cell_type": "code",
   "execution_count": null,
   "id": "ea52399f-e0bb-40d5-95f9-0ddf3ac12ab9",
   "metadata": {},
   "outputs": [
    {
     "data": {
      "text/plain": [
       "<AxesSubplot:>"
      ]
     },
     "execution_count": 24,
     "metadata": {},
     "output_type": "execute_result"
    },
    {
     "data": {
      "image/png": "[encoded data removed]",
      "text/plain": [
       "<Figure size 1080x1080 with 2 Axes>"
      ]
     },
     "metadata": {},
     "output_type": "display_data"
    }
   ],
   "source": [
    "geo_data.plot(column='borough',figsize=(15,15), legend=True)"
   ]
  },
  {
   "cell_type": "markdown",
   "id": "fe1e1262-3951-41c0-a4b3-6f398136feb3",
   "metadata": {},
   "source": [
    "### Reduce dataset size"
   ]
  },
  {
   "cell_type": "markdown",
   "id": "30a3baba-8a43-4416-80ac-4d2516f6ec50",
   "metadata": {},
   "source": [
    "#### Reduce randomly"
   ]
  },
  {
   "cell_type": "code",
   "execution_count": null,
   "id": "75c6253b-dd1f-4bef-8cef-ab6006dc96ff",
   "metadata": {},
   "outputs": [],
   "source": [
    "new_data = new_data.reset_index()\n",
    "ids_to_keep = random.sample(range(0, 263), to_keep_by)"
   ]
  },
  {
   "cell_type": "markdown",
   "id": "7a2d93b9-c1ce-4883-a8fc-ccddff1b0b89",
   "metadata": {
    "tags": []
   },
   "source": [
    "#### Reduce by keeping only a region:"
   ]
  },
  {
   "cell_type": "code",
   "execution_count": null,
   "id": "c374105f-c04d-4ef2-ab1e-7bcb5bb6b782",
   "metadata": {},
   "outputs": [],
   "source": [
    "# to_keep_by = 'Manhattan'\n",
    "\n",
    "# ids_to_keep = geo_data[geo_data.borough==to_keep_by].LocationID.values"
   ]
  },
  {
   "cell_type": "code",
   "execution_count": null,
   "id": "1282e94d-66f4-4b4b-a607-55a66a7d6785",
   "metadata": {},
   "outputs": [],
   "source": [
    "#### Create the new reduced dataset"
   ]
  },
  {
   "cell_type": "code",
   "execution_count": null,
   "id": "c7de387a-9c4c-4e79-98d5-cb40ed406843",
   "metadata": {},
   "outputs": [],
   "source": [
    "\n",
    "new_data = new_data.loc[new_data.apply(lambda x: x.PULocationID in ids_to_keep and x.DOLocationID in ids_to_keep and x.PULocationID!=x.DOLocationID, axis=1)]\n",
    "\n",
    "new_data=new_data.rename(columns={'trip_distance_count':'Demand'})\n",
    "new_data.sort_values(by='Demand',ascending=False);"
   ]
  },
  {
   "cell_type": "code",
   "execution_count": null,
   "id": "a6af9085-3e46-4af6-94b5-f880194a75f5",
   "metadata": {},
   "outputs": [],
   "source": [
    "new_data;"
   ]
  },
  {
   "cell_type": "code",
   "execution_count": null,
   "id": "9f81f7f2-fcd9-4be8-aff4-354d79ade461",
   "metadata": {},
   "outputs": [],
   "source": [
    "## Visualisation preparations\n",
    "\n",
    "PU_demand_target = new_data.groupby('PULocationID').sum().drop(columns='DOLocationID').rename(columns={'Demand':'PU_Demand_target'})\n",
    "DO_demand_target = new_data.groupby('DOLocationID').sum().drop(columns='PULocationID').rename(columns={'Demand':'DO_Demand_target'})"
   ]
  },
  {
   "cell_type": "code",
   "execution_count": null,
   "id": "cbfb39cb-1134-453d-817a-8ce8c2f1cb91",
   "metadata": {},
   "outputs": [],
   "source": [
    "del data"
   ]
  },
  {
   "cell_type": "markdown",
   "id": "6e4c729a-6f12-4647-971e-40c29dd41488",
   "metadata": {},
   "source": [
    "### Add PU & DO demands to the data"
   ]
  },
  {
   "cell_type": "code",
   "execution_count": null,
   "id": "ed775e2a-825a-4f26-a753-0f8403e47ab2",
   "metadata": {},
   "outputs": [],
   "source": [
    "PU_demand_target"
   ]
  },
  {
   "cell_type": "code",
   "execution_count": null,
   "id": "658235a9-e4f0-4dd4-83d0-f068db50b9cb",
   "metadata": {},
   "outputs": [],
   "source": [
    "## Add demand to zone dataset \n",
    "geo_data = geo_data.join(PU_demand_month.set_index('PULocationID'),on='LocationID')\n",
    "\n",
    "geo_data = geo_data.join(DO_demand_month.set_index('DOLocationID'),on='LocationID')\n",
    "\n",
    "\n",
    "geo_data = geo_data.join(PU_demand_day.set_index('PULocationID'),on='LocationID')\n",
    "\n",
    "geo_data = geo_data.join(DO_demand_day.set_index('DOLocationID'),on='LocationID')\n",
    "\n",
    "\n",
    "geo_data = geo_data.join(PU_demand_target,on='LocationID')\n",
    "\n",
    "geo_data = geo_data.join(DO_demand_target,on='LocationID')\n",
    "\n",
    "\n",
    "# del PU_demand_month,DO_demand_month,PU_demand_day,DO_demand_day,PU_demand_target,DO_demand_target"
   ]
  },
  {
   "cell_type": "code",
   "execution_count": null,
   "id": "selective-exchange",
   "metadata": {},
   "outputs": [],
   "source": [
    "print(f'columns are{list(geo_data.columns)},\\n and number of data is :{geo_data.shape}')"
   ]
  },
  {
   "cell_type": "markdown",
   "id": "2f888fa5-7292-44ef-b86c-7fc9291ded3c",
   "metadata": {},
   "source": [
    "### Visualize the data"
   ]
  },
  {
   "cell_type": "markdown",
   "id": "a04d9943-2666-4363-bbbc-5c319bc31fa0",
   "metadata": {
    "tags": []
   },
   "source": [
    "#### Visualize monthly demand"
   ]
  },
  {
   "cell_type": "code",
   "execution_count": null,
   "id": "338450c8-7c60-450e-9f44-5318224171ef",
   "metadata": {},
   "outputs": [],
   "source": [
    "geo_data"
   ]
  },
  {
   "cell_type": "code",
   "execution_count": null,
   "id": "4489e0bd-3b23-4ac8-9db6-78c643ab61dc",
   "metadata": {},
   "outputs": [],
   "source": [
    "geo_data['PU_log_Demand_month'] = np.log(geo_data.PU_Demand_month)\n",
    "geo_data['DO_log_Demand_month'] = np.log(geo_data.DO_Demand_month)\n",
    "\n",
    "fig, ax = plt.subplots(1, 2,figsize=(15,10))\n",
    "\n",
    "# geo_data.plot(column='borough', ax=ax, legend=True)\n",
    "# fig, ax = plt.subplots(1, 1,figsize=(10,10))\n",
    "\n",
    "geo_data.plot(column='PU_log_Demand_month', ax=ax[0], legend=True,\n",
    "              legend_kwds={'label': \"log of total number of client\",'orientation': \"horizontal\"})\n",
    "ax[0].set_title('Pick_up locations for a month')\n",
    "\n",
    "geo_data.plot(column='DO_log_Demand_month', ax=ax[1], legend=True,\n",
    "              legend_kwds={'label': \"log of total number of client\",'orientation': \"horizontal\"})\n",
    "ax[1].set_title('Drop_off locations for a month')\n",
    "\n",
    "fig.savefig('./Data/plots/PU_demand_january.png')"
   ]
  },
  {
   "cell_type": "markdown",
   "id": "07ca719e-6480-498e-8faf-9cf5ef6954b3",
   "metadata": {},
   "source": [
    "#### Visualize daily demand"
   ]
  },
  {
   "cell_type": "code",
   "execution_count": null,
   "id": "61548007-b5c7-4e29-9e66-31baf8fc8e2c",
   "metadata": {},
   "outputs": [],
   "source": [
    "geo_data['PU_log_Demand_day'] = np.log(geo_data.PU_Demand_day)\n",
    "geo_data['DO_log_Demand_day'] = np.log(geo_data.DO_Demand_day)\n",
    "\n",
    "fig, ax = plt.subplots(1, 2,figsize=(15,10))\n",
    "\n",
    "# geo_data.plot(column='borough', ax=ax, legend=True)\n",
    "# fig, ax = plt.subplots(1, 1,figsize=(10,10))\n",
    "\n",
    "geo_data.plot(column='PU_log_Demand_day', ax=ax[0], legend=True,\n",
    "              legend_kwds={'label': \"log of total number of client\",'orientation': \"horizontal\"})\n",
    "ax[0].set_title('Pick_up locations for one day')\n",
    "\n",
    "geo_data.plot(column='DO_log_Demand_day', ax=ax[1], legend=True,\n",
    "              legend_kwds={'label': \"log of total number of client\",'orientation': \"horizontal\"})\n",
    "ax[1].set_title('Drop_off locations for one day')\n",
    "\n",
    "fig.savefig('./Data/plots/PU_demand_day1.png')"
   ]
  },
  {
   "cell_type": "markdown",
   "id": "b6344b5d-b726-4916-95e3-e3f4ccade1cb",
   "metadata": {},
   "source": [
    "#### Visualize selected data demand"
   ]
  },
  {
   "cell_type": "code",
   "execution_count": null,
   "id": "a34ac864-67a7-4aea-b950-92cd96fd712c",
   "metadata": {},
   "outputs": [],
   "source": [
    "geo_data['PU_log_Demand_target'] = np.log(geo_data.PU_Demand_target)\n",
    "geo_data['DO_log_Demand_target'] = np.log(geo_data.DO_Demand_target)\n",
    "\n",
    "fig, ax = plt.subplots(1, 2,figsize=(15,10))\n",
    "\n",
    "# geo_data.plot(column='borough', ax=ax, legend=True)\n",
    "# fig, ax = plt.subplots(1, 1,figsize=(10,10))\n",
    "geo_data.plot(ax=ax[0],color='black')\n",
    "geo_data.plot(ax=ax[1],color='black')\n",
    "geo_data.plot(column='PU_log_Demand_target', ax=ax[0], legend=True,\n",
    "              legend_kwds={'label': \"log of total number of client\",'orientation': \"horizontal\"})\n",
    "ax[0].set_title('Pick_up locations for picked data')\n",
    "\n",
    "geo_data.plot(column='DO_log_Demand_target', ax=ax[1], legend=True,\n",
    "              legend_kwds={'label': \"log of total number of client\",'orientation': \"horizontal\"})\n",
    "ax[1].set_title('Drop_off locations for picked data')\n",
    "fig.savefig('./Data/plots/PU_demand_selected_data.png')"
   ]
  },
  {
   "cell_type": "markdown",
   "id": "d2a99853-0df8-4a2a-824f-fd7cf8026d50",
   "metadata": {
    "tags": []
   },
   "source": [
    "## Create demand dataset for the OpenAI gym model"
   ]
  },
  {
   "cell_type": "code",
   "execution_count": null,
   "id": "instrumental-orbit",
   "metadata": {},
   "outputs": [],
   "source": [
    "location_data = pd.DataFrame(geo_data[['zone','LocationID','geometry','borough','centroid','x','y']])\n",
    "location_data.LocationID = location_data.LocationID.astype(int)\n",
    "location_data.dtypes"
   ]
  },
  {
   "cell_type": "code",
   "execution_count": null,
   "id": "fa5f88c0-037a-443a-a726-bb2f59743a79",
   "metadata": {},
   "outputs": [],
   "source": [
    "location_data"
   ]
  },
  {
   "cell_type": "code",
   "execution_count": null,
   "id": "bc8ff9b8-4436-4f11-9ce8-e4b694e20b1d",
   "metadata": {},
   "outputs": [],
   "source": [
    "# len(np.unique(new_data.PULocationID)), len(np.unique(new_data.DOLocationID))"
   ]
  },
  {
   "cell_type": "code",
   "execution_count": null,
   "id": "8a44073a-71ad-4d21-8738-0a633c32d42a",
   "metadata": {},
   "outputs": [],
   "source": [
    "new_data = new_data.merge(location_data.add_prefix('PU_'),left_on='PULocationID',right_on='PU_LocationID')#,how='cross')\n",
    "\n",
    "new_data = new_data.merge(location_data.add_prefix('DO_'),left_on='DOLocationID',right_on='DO_LocationID')#,how='cross')\n",
    "\n",
    "del location_data\n",
    "new_data['distance']=geopd.GeoSeries(new_data.PU_centroid).distance(geopd.GeoSeries(new_data.DO_centroid))"
   ]
  },
  {
   "cell_type": "code",
   "execution_count": null,
   "id": "indoor-cooper",
   "metadata": {},
   "outputs": [],
   "source": [
    "# Save data:\n",
    "# new_data.to_csv('./Data/demand_extended.csv')\n",
    "\n",
    "new_data.to_csv(f'./Data/demand_{to_keep_by}.csv')\n",
    "\n"
   ]
  },
  {
   "cell_type": "code",
   "execution_count": null,
   "id": "c45b9f9d-75dc-4612-bcef-f8dbd89356b9",
   "metadata": {},
   "outputs": [],
   "source": [
    "location_data = pd.DataFrame(geo_data[['LocationID','borough','centroid']])\n",
    "location_data.LocationID = location_data.LocationID.astype(int)\n",
    "location_data.dtypes"
   ]
  },
  {
   "cell_type": "code",
   "execution_count": null,
   "id": "d926f866-b17f-47c0-8954-aefecb28aadf",
   "metadata": {},
   "outputs": [],
   "source": [
    "list_data =[]\n",
    "for i in geo_data.LocationID.values:\n",
    "    for j in geo_data.LocationID.values:\n",
    "        list_data.append([i,j])\n",
    "        #,geo_data[geo_data.LocationID==i]['centroid'],geo_data[geo_data.LocationID==j]['centroid']])\n",
    "data_distance  = pd.DataFrame(list_data, columns=['PULocationID','DOLocationID'])"
   ]
  },
  {
   "cell_type": "code",
   "execution_count": null,
   "id": "f04565c1-25e4-484e-bde2-1cd322a729b5",
   "metadata": {},
   "outputs": [],
   "source": [
    "data_distance = data_distance.merge(location_data.add_prefix('PU_'),left_on='PULocationID',right_on='PU_LocationID')#,how='cross')\n",
    "data_distance = data_distance.merge(location_data.add_prefix('DO_'),left_on='DOLocationID',right_on='DO_LocationID')#,how='cross')\n",
    "\n",
    "del location_data\n",
    "data_distance['distance']=geopd.GeoSeries(data_distance.PU_centroid).distance(geopd.GeoSeries(data_distance.DO_centroid))"
   ]
  },
  {
   "cell_type": "code",
   "execution_count": null,
   "id": "f17965fc-7b3d-454d-907a-2b0588d84b9f",
   "metadata": {},
   "outputs": [],
   "source": [
    "data_distance=data_distance[(data_distance.DOLocationID.isin(ids_to_keep)) & (data_distance.PULocationID.isin(ids_to_keep))]"
   ]
  },
  {
   "cell_type": "code",
   "execution_count": null,
   "id": "3a94c4ca-9d15-4878-a027-3bdbd19cfa0c",
   "metadata": {},
   "outputs": [],
   "source": [
    "data_distance.to_csv(f'./Data/distance_info_{to_keep_by}.csv')\n"
   ]
  },
  {
   "cell_type": "markdown",
   "id": "db7261c6-4fa6-4d5f-975a-06d20ed5338c",
   "metadata": {
    "tags": []
   },
   "source": [
    "## Network Visualisation of the dataset"
   ]
  },
  {
   "cell_type": "code",
   "execution_count": null,
   "id": "extensive-montreal",
   "metadata": {},
   "outputs": [],
   "source": [
    "import dash_core_components as dcc\n",
    "import dash_html_components as html\n",
    "import dash_cytoscape as cyto\n",
    "from dash.dependencies import Input, Output\n",
    "\n",
    "from jupyter_dash import JupyterDash\n",
    "import plotly.express as px"
   ]
  },
  {
   "cell_type": "code",
   "execution_count": null,
   "id": "unexpected-movement",
   "metadata": {},
   "outputs": [],
   "source": [
    "# # ## When Checking the taxi_zone_lookup LocationID are unknown so for the sake of practicality I'm ommiting them\n",
    "# new_csv = new_data[new_data[\"PULocationID\"] != 265]\n",
    "# new_csv = new_csv[new_csv[\"PULocationID\"] != 264]\n",
    "# new_csv = new_csv[new_csv[\"DOLocationID\"] != 264]\n",
    "# new_csv = new_csv[new_csv[\"DOLocationID\"] != 265]\n",
    "# len(new_csv)"
   ]
  },
  {
   "cell_type": "code",
   "execution_count": null,
   "id": "completed-columbia",
   "metadata": {},
   "outputs": [],
   "source": [
    "df = new_data.reset_index()\n",
    "\n",
    "\n",
    "df = df[(df.PULocationID != 265) & (df.DOLocationID != 265) & \n",
    "        (df.PULocationID != 264)& (df.DOLocationID != 264)& \n",
    "        (df.PULocationID != 263)& (df.DOLocationID != 263)]\n",
    "source ,target='PULocationID', 'DOLocationID'\n",
    "\n",
    "zone_dict = geo_data.set_index('OBJECTID')\n",
    "\n",
    "source_list,target_list = df[source].astype(str).tolist(),df[target].astype(str).tolist()\n",
    "\n",
    "nodes = np.unique(source_list+target_list)\n",
    "edges = [(source_list[index],target_list[index]) for index in range(len(source_list))]\n",
    "\n",
    "# return_dict=[{'data':{'id':node ,'label':zone_dict.loc[node]['zone'] ,'parent':zone_dict.loc[node]['borough']},\n",
    "#                       'position': {'x':zone_dict.loc[node]['x']*2000, \n",
    "#                                    'y':zone_dict.loc[node]['y']*2000 }}\n",
    "#              for node in nodes]\n",
    "\n",
    "# parent_nodes=[{\n",
    "#                 'data': {'id':borough, 'label': borough}\n",
    "#             } for borough in zone_data['borough'].unique().tolist()]\n",
    "# for edge in edges:\n",
    "#         return_dict.append({'data': {'source': edge[0], 'target': edge[1]}})"
   ]
  },
  {
   "cell_type": "code",
   "execution_count": null,
   "id": "physical-personality",
   "metadata": {},
   "outputs": [],
   "source": [
    "app = JupyterDash(__name__)\n",
    "\n",
    "\n",
    "app.layout = html.Div([\n",
    "    cyto.Cytoscape(\n",
    "        id='cytoscape-compound',\n",
    "        layout={'name': 'preset'},\n",
    "        style={'width': '1000px', 'height': '1000px'},\n",
    "        stylesheet=[\n",
    "            {\n",
    "                'selector': 'node',\n",
    "                'style': {'content': 'data(label)'}\n",
    "            },\n",
    "            {\n",
    "                'selector': '.countries',\n",
    "                'style': {'width': 5}\n",
    "            },\n",
    "            {\n",
    "                'selector': '.cities',\n",
    "                'style': {'line-style': 'dashed'}\n",
    "            }\n",
    "        ],\n",
    "        elements=return_dict)])\n",
    "\n",
    "app.run_server(mode='inline');"
   ]
  }
 ],
 "metadata": {
  "kernelspec": {
   "display_name": "Python 3",
   "language": "python",
   "name": "python3"
  },
  "language_info": {
   "codemirror_mode": {
    "name": "ipython",
    "version": 3
   },
   "file_extension": ".py",
   "mimetype": "text/x-python",
   "name": "python",
   "nbconvert_exporter": "python",
   "pygments_lexer": "ipython3",
   "version": "3.8.8"
  }
 },
 "nbformat": 4,
 "nbformat_minor": 5
}
